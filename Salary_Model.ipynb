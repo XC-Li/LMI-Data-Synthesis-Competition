{
 "cells": [
  {
   "cell_type": "markdown",
   "metadata": {},
   "source": [
    "# Salary Model Version 1\n",
    "## Author: Xiaochi (George) Li\n",
    "\n",
    "Input: \"processed_data.pickle\" from the preprocessing part  \n",
    "Spec: No missing value, target variable \"salary\" should be the last column\n"
   ]
  },
  {
   "cell_type": "code",
   "execution_count": 3,
   "metadata": {},
   "outputs": [],
   "source": [
    "import pandas as pd"
   ]
  },
  {
   "cell_type": "code",
   "execution_count": 5,
   "metadata": {},
   "outputs": [
    {
     "name": "stdout",
     "output_type": "stream",
     "text": [
      "shape: (80000, 59)\n"
     ]
    },
    {
     "data": {
      "text/plain": [
       "Index(['Total Payments', 'Lump Sum Pay', 'Other Pay (Payroll Explorer)',\n",
       "       'FMS Department', 'Job Class', 'Average Benefit Cost', 'p_dep', 'Rate',\n",
       "       'p_bonus', 't_bonus', 'o_pay', 'long', 'e_pay', 'insurance',\n",
       "       'financial', 'e_type_FT', 'e_type_PE', 'e_type_PT', 'benefit_-1',\n",
       "       'benefit_Blue', 'benefit_Grey', 'benefit_Red', 'benefit_Yellow',\n",
       "       'Time_1', 'Time_2', 'Time_3', 'Time_4', 'Time_5', 'Time_6',\n",
       "       'p_grade_-1', 'p_grade_0', 'p_grade_1', 'p_grade_2', 'p_grade_3',\n",
       "       'p_grade_4', 'p_grade_5', 'p_grade_6', 'p_grade_7', 'p_grade_8',\n",
       "       'p_grade_9', 'p_grade_A', 'p_grade_B', 'p_grade_C', 'p_grade_D',\n",
       "       'p_grade_E', 'p_grade_F', 'p_grade_G', 'p_grade_H', 'p_grade_J',\n",
       "       'p_grade_L', 'p_grade_M', 'p_grade_N', 'p_grade_S', 'p_grade_T',\n",
       "       'p_grade_V', 'p_grade_X', 'p_grade_Y', 'p_grade_Z', 'Salary'],\n",
       "      dtype='object')"
      ]
     },
     "execution_count": 5,
     "metadata": {},
     "output_type": "execute_result"
    }
   ],
   "source": [
    "df = pd.read_pickle(\"processed_data.pickle\")\n",
    "print(\"shape:\",df.shape)\n",
    "df.columns"
   ]
  },
  {
   "cell_type": "code",
   "execution_count": 7,
   "metadata": {},
   "outputs": [
    {
     "data": {
      "text/plain": [
       "(80000, 58)"
      ]
     },
     "execution_count": 7,
     "metadata": {},
     "output_type": "execute_result"
    }
   ],
   "source": [
    "X = df[df.columns[:-1]]\n",
    "y = df[df.columns[-1]]\n",
    "X.shape"
   ]
  },
  {
   "cell_type": "code",
   "execution_count": 11,
   "metadata": {},
   "outputs": [
    {
     "data": {
      "text/plain": [
       "<matplotlib.axes._subplots.AxesSubplot at 0x22f36aa9cf8>"
      ]
     },
     "execution_count": 11,
     "metadata": {},
     "output_type": "execute_result"
    },
    {
     "data": {
      "image/png": "[encoded data removed]",
      "text/plain": [
       "<Figure size 432x288 with 1 Axes>"
      ]
     },
     "metadata": {
      "needs_background": "light"
     },
     "output_type": "display_data"
    }
   ],
   "source": [
    "y.hist(bins=100)"
   ]
  }
 ],
 "metadata": {
  "kernelspec": {
   "display_name": "Python 3",
   "language": "python",
   "name": "python3"
  },
  "language_info": {
   "codemirror_mode": {
    "name": "ipython",
    "version": 3
   },
   "file_extension": ".py",
   "mimetype": "text/x-python",
   "name": "python",
   "nbconvert_exporter": "python",
   "pygments_lexer": "ipython3",
   "version": "3.6.1"
  }
 },
 "nbformat": 4,
 "nbformat_minor": 2
}
