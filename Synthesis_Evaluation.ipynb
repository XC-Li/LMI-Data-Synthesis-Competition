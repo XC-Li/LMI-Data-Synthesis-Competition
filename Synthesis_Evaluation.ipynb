{
 "cells": [
  {
   "cell_type": "code",
   "execution_count": 1,
   "metadata": {},
   "outputs": [],
   "source": [
    "import pandas as pd\n",
    "from sklearn.linear_model import LinearRegression\n",
    "slr = LinearRegression()\n",
    "\n",
    "X_test = pd.read_pickle(\"X_test.pickle\")\n",
    "y_test = pd.read_pickle(\"y_test.pickle\")\n"
   ]
  },
  {
   "cell_type": "code",
   "execution_count": null,
   "metadata": {},
   "outputs": [],
   "source": [
    "# Read the synthesised data and save it as X_train and y_train\n",
    "X_train = \n",
    "y_train = "
   ]
  },
  {
   "cell_type": "code",
   "execution_count": null,
   "metadata": {},
   "outputs": [],
   "source": [
    "from sklearn.metrics import mean_squared_error\n",
    "from sklearn.metrics import r2_score\n",
    "def model_eval(model,X_train=X_train, X_test=X_test, y_train=y_train, y_test=y_test):\n",
    "    \"\"\"PyML P477-480\n",
    "    Plot residual plot , dots should be located around the 0 line, and have no pattern\n",
    "    R_square should be close to 1\n",
    "    MSE should be small\n",
    "    \"\"\"\n",
    "    y_train_pred = model.predict(X_train)\n",
    "    y_test_pred = model.predict(X_test)\n",
    "    \n",
    "    print('R^2 train: %.3f, test: %.3f' %(r2_score(y_train, y_train_pred), r2_score(y_test, y_test_pred)))\n",
    "    print(\"R2\",model.score(X_train, y_train))\n",
    "    print(\"R2 Adj\",1 - (1-model.score(X_train, y_train))*(len(y_train)-1)/(len(y_train)-X_train.shape[1]-1))\n",
    "    \n",
    "    mse_train = mean_squared_error(y_train, y_train_pred)\n",
    "    mse_test = mean_squared_error(y_test, y_test_pred)\n",
    "    print('MSE train: %.3f, test: %.3f' %(mse_train, mse_test))\n",
    "    print('Over fitting' if mse_train < mse_test else 'Under fitting')\n",
    "    \n",
    "    plt.figure(figsize=(10,10))\n",
    "    plt.scatter(y_train_pred, y_train_pred - y_train, c='steelblue', marker='o', edgecolor='white', label='Training data')\n",
    "    plt.scatter(y_test_pred, y_test_pred - y_test, c='limegreen', marker='s', edgecolor='white', label='Test data')\n",
    "    plt.xlabel('Predicted values')\n",
    "    plt.ylabel('Residuals')\n",
    "    plt.legend(loc='upper left')\n",
    "    #plt.hlines(y=0, xmin=-10, xmax=350000,color='black', lw=2)\n",
    "    plt.show()\n",
    "    \n"
   ]
  },
  {
   "cell_type": "code",
   "execution_count": null,
   "metadata": {},
   "outputs": [],
   "source": [
    "slr.fit(X_train, y_train)\n",
    "model_eval(slr)"
   ]
  }
 ],
 "metadata": {
  "kernelspec": {
   "display_name": "Python [default]",
   "language": "python",
   "name": "python3"
  },
  "language_info": {
   "codemirror_mode": {
    "name": "ipython",
    "version": 3
   },
   "file_extension": ".py",
   "mimetype": "text/x-python",
   "name": "python",
   "nbconvert_exporter": "python",
   "pygments_lexer": "ipython3",
   "version": "3.6.1"
  }
 },
 "nbformat": 4,
 "nbformat_minor": 2
}
