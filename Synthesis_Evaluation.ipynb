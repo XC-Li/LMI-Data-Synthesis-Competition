{
 "cells": [
  {
   "cell_type": "code",
   "execution_count": 1,
   "metadata": {},
   "outputs": [
    {
     "data": {
      "text/plain": [
       "Index(['Total Payments', 'Lump Sum Pay', 'Other Pay (Payroll Explorer)',\n",
       "       'FMS Department', 'Job Class', 'Average Benefit Cost', 'p_dep', 'Rate',\n",
       "       'p_bonus', 't_bonus', 'o_pay', 'long', 'e_pay', 'insurance',\n",
       "       'financial', 'e_type_FT', 'e_type_PE', 'e_type_PT', 'benefit_-1',\n",
       "       'benefit_Blue', 'benefit_Grey', 'benefit_Red', 'benefit_Yellow',\n",
       "       'Time_1', 'Time_2', 'Time_3', 'Time_4', 'Time_5', 'Time_6',\n",
       "       'p_grade_-1', 'p_grade_0', 'p_grade_1', 'p_grade_2', 'p_grade_3',\n",
       "       'p_grade_4', 'p_grade_5', 'p_grade_6', 'p_grade_7', 'p_grade_8',\n",
       "       'p_grade_9', 'p_grade_A', 'p_grade_B', 'p_grade_C', 'p_grade_D',\n",
       "       'p_grade_E', 'p_grade_F', 'p_grade_G', 'p_grade_H', 'p_grade_J',\n",
       "       'p_grade_L', 'p_grade_M', 'p_grade_N', 'p_grade_S', 'p_grade_T',\n",
       "       'p_grade_V', 'p_grade_X', 'p_grade_Y', 'p_grade_Z'],\n",
       "      dtype='object')"
      ]
     },
     "execution_count": 1,
     "metadata": {},
     "output_type": "execute_result"
    }
   ],
   "source": [
    "import pandas as pd\n",
    "from sklearn.linear_model import LinearRegression\n",
    "slr = LinearRegression()\n",
    "\n",
    "X_test = pd.read_pickle(\"X_test.pickle\")\n",
    "y_test = pd.read_pickle(\"y_test.pickle\")\n",
    "X_test.columns"
   ]
  },
  {
   "cell_type": "code",
   "execution_count": 2,
   "metadata": {},
   "outputs": [],
   "source": [
    "import pickle\n",
    "model = pickle.load(open(\"prediction_model.pickle\", 'rb'))"
   ]
  },
  {
   "cell_type": "code",
   "execution_count": 3,
   "metadata": {},
   "outputs": [],
   "source": [
    "synthesis_data = pd.read_csv(\"./Data synthesis/synthesis_data_withsalry.csv\")"
   ]
  },
  {
   "cell_type": "code",
   "execution_count": 4,
   "metadata": {},
   "outputs": [],
   "source": [
    "synthesis_data = synthesis_data.drop('Unnamed: 0',axis=1)"
   ]
  },
  {
   "cell_type": "code",
   "execution_count": 5,
   "metadata": {},
   "outputs": [
    {
     "data": {
      "text/plain": [
       "Index(['Total Payments', 'Lump Sum Pay', 'Other Pay (Payroll Explorer)',\n",
       "       'FMS Department', 'Job Class', 'Average Benefit Cost', 'Time', 'p_dep',\n",
       "       'e_type', 'Rate', 'p_bonus', 't_bonus', 'o_pay', 'long', 'e_pay',\n",
       "       'p_grade', 'insurance', 'benefit', 'financial', 'Salary'],\n",
       "      dtype='object')"
      ]
     },
     "execution_count": 5,
     "metadata": {},
     "output_type": "execute_result"
    }
   ],
   "source": [
    "synthesis_data.columns"
   ]
  },
  {
   "cell_type": "code",
   "execution_count": 6,
   "metadata": {},
   "outputs": [
    {
     "data": {
      "text/plain": [
       "['Total Payments',\n",
       " 'Lump Sum Pay',\n",
       " 'Other Pay (Payroll Explorer)',\n",
       " 'FMS Department',\n",
       " 'Job Class',\n",
       " 'Average Benefit Cost',\n",
       " 'p_dep',\n",
       " 'Rate',\n",
       " 'p_bonus',\n",
       " 't_bonus',\n",
       " 'o_pay',\n",
       " 'long',\n",
       " 'e_pay',\n",
       " 'insurance',\n",
       " 'financial']"
      ]
     },
     "execution_count": 6,
     "metadata": {},
     "output_type": "execute_result"
    }
   ],
   "source": [
    "select_cols = [col for col in synthesis_data.columns if col not in ['Time', 'e_type', 'p_grade', 'benefit',\"Salary\"]]\n",
    "select_cols"
   ]
  },
  {
   "cell_type": "code",
   "execution_count": 7,
   "metadata": {},
   "outputs": [
    {
     "data": {
      "text/plain": [
       "Index(['Total Payments', 'Lump Sum Pay', 'Other Pay (Payroll Explorer)',\n",
       "       'FMS Department', 'Job Class', 'Average Benefit Cost', 'Time', 'p_dep',\n",
       "       'e_type', 'Rate', 'p_bonus', 't_bonus', 'o_pay', 'long', 'e_pay',\n",
       "       'p_grade', 'insurance', 'benefit', 'financial'],\n",
       "      dtype='object')"
      ]
     },
     "execution_count": 7,
     "metadata": {},
     "output_type": "execute_result"
    }
   ],
   "source": [
    "# Read the synthesised data and save it as X_train and y_train\n",
    "X_train = synthesis_data[synthesis_data.columns[:-1]]\n",
    "y_train = synthesis_data[synthesis_data.columns[-1]]\n",
    "X_train.shape\n",
    "X_train.columns"
   ]
  },
  {
   "cell_type": "code",
   "execution_count": 8,
   "metadata": {},
   "outputs": [
    {
     "data": {
      "text/plain": [
       "Index(['Total Payments', 'Lump Sum Pay', 'Other Pay (Payroll Explorer)',\n",
       "       'FMS Department', 'Job Class', 'Average Benefit Cost', 'p_dep', 'Rate',\n",
       "       'p_bonus', 't_bonus', 'o_pay', 'long', 'e_pay', 'insurance',\n",
       "       'financial'],\n",
       "      dtype='object')"
      ]
     },
     "execution_count": 8,
     "metadata": {},
     "output_type": "execute_result"
    }
   ],
   "source": [
    "X_train = X_train[select_cols]\n",
    "X_train.columns"
   ]
  },
  {
   "cell_type": "code",
   "execution_count": 9,
   "metadata": {},
   "outputs": [
    {
     "data": {
      "text/plain": [
       "Index(['Total Payments', 'Lump Sum Pay', 'Other Pay (Payroll Explorer)',\n",
       "       'FMS Department', 'Job Class', 'Average Benefit Cost', 'p_dep', 'Rate',\n",
       "       'p_bonus', 't_bonus', 'o_pay', 'long', 'e_pay', 'insurance',\n",
       "       'financial'],\n",
       "      dtype='object')"
      ]
     },
     "execution_count": 9,
     "metadata": {},
     "output_type": "execute_result"
    }
   ],
   "source": [
    "X_test = X_test[select_cols]\n",
    "X_test.columns"
   ]
  },
  {
   "cell_type": "code",
   "execution_count": 10,
   "metadata": {},
   "outputs": [],
   "source": [
    "from sklearn.metrics import mean_squared_error\n",
    "from sklearn.metrics import r2_score\n",
    "import matplotlib.pyplot as plt\n",
    "def model_eval(model,X_train=X_train, X_test=X_test, y_train=y_train, y_test=y_test):\n",
    "    \"\"\"PyML P477-480\n",
    "    Plot residual plot , dots should be located around the 0 line, and have no pattern\n",
    "    R_square should be close to 1\n",
    "    MSE should be small\n",
    "    \"\"\"\n",
    "    y_train_pred = model.predict(X_train)\n",
    "    y_test_pred = model.predict(X_test)\n",
    "    \n",
    "    print('R^2 train: %.3f, test: %.3f' %(r2_score(y_train, y_train_pred), r2_score(y_test, y_test_pred)))\n",
    "    print(\"R2\",model.score(X_train, y_train))\n",
    "    print(\"R2 Adj\",1 - (1-model.score(X_train, y_train))*(len(y_train)-1)/(len(y_train)-X_train.shape[1]-1))\n",
    "    \n",
    "    mse_train = mean_squared_error(y_train, y_train_pred)\n",
    "    mse_test = mean_squared_error(y_test, y_test_pred)\n",
    "    print('MSE train: %.3f, test: %.3f' %(mse_train, mse_test))\n",
    "    print('Over fitting' if mse_train < mse_test else 'Under fitting')\n",
    "    \n",
    "    plt.figure(figsize=(10,10))\n",
    "    plt.scatter(y_train_pred, y_train_pred - y_train, c='steelblue', marker='o', edgecolor='white', label='Training data')\n",
    "    plt.scatter(y_test_pred, y_test_pred - y_test, c='limegreen', marker='s', edgecolor='white', label='Test data')\n",
    "    plt.xlabel('Predicted values')\n",
    "    plt.ylabel('Residuals')\n",
    "    plt.legend(loc='upper left')\n",
    "    #plt.hlines(y=0, xmin=-10, xmax=350000,color='black', lw=2)\n",
    "    plt.show()\n",
    "    \n"
   ]
  },
  {
   "cell_type": "code",
   "execution_count": 11,
   "metadata": {},
   "outputs": [
    {
     "name": "stdout",
     "output_type": "stream",
     "text": [
      "R^2 train: 1.000, test: 0.066\n",
      "R2 0.999999995297684\n",
      "R2 Adj 0.9999999952975959\n",
      "MSE train: 7.986, test: 1615391012.126\n",
      "Over fitting\n"
     ]
    },
    {
     "data": {
      "image/png": "[encoded data removed]",
      "text/plain": [
       "<Figure size 720x720 with 1 Axes>"
      ]
     },
     "metadata": {
      "needs_background": "light"
     },
     "output_type": "display_data"
    }
   ],
   "source": [
    "slr.fit(X_train, y_train)\n",
    "model_eval(slr)"
   ]
  }
 ],
 "metadata": {
  "kernelspec": {
   "display_name": "Python [default]",
   "language": "python",
   "name": "python3"
  },
  "language_info": {
   "codemirror_mode": {
    "name": "ipython",
    "version": 3
   },
   "file_extension": ".py",
   "mimetype": "text/x-python",
   "name": "python",
   "nbconvert_exporter": "python",
   "pygments_lexer": "ipython3",
   "version": "3.6.1"
  }
 },
 "nbformat": 4,
 "nbformat_minor": 2
}
