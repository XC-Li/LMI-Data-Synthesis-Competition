{
 "cells": [
  {
   "cell_type": "markdown",
   "metadata": {},
   "source": [
    "# Version 1 \n",
    "## Author: Xiaochi (George) Li"
   ]
  },
  {
   "cell_type": "raw",
   "metadata": {},
   "source": [
    "ToDo:\n",
    "1.EDA：\n",
    "查看各变量格式是否正确，\n",
    "分析变量类型（unique个数），\n",
    "missing value, \n",
    "correlation\n",
    "2."
   ]
  },
  {
   "cell_type": "code",
   "execution_count": 1,
   "metadata": {},
   "outputs": [],
   "source": [
    "import numpy as np\n",
    "import pandas as pd\n",
    "import sklearn \n",
    "np.random.seed(42)"
   ]
  },
  {
   "cell_type": "code",
   "execution_count": 3,
   "metadata": {},
   "outputs": [],
   "source": [
    "df = pd.read_excel(\"data.xlsx\")"
   ]
  },
  {
   "cell_type": "code",
   "execution_count": 5,
   "metadata": {},
   "outputs": [
    {
     "name": "stdout",
     "output_type": "stream",
     "text": [
      "<class 'pandas.core.frame.DataFrame'>\n",
      "Int64Index: 80000 entries, 161542 to 346245\n",
      "Data columns (total 26 columns):\n",
      "Record Number                   80000 non-null object\n",
      "MOU                             75347 non-null object\n",
      "MOU Title                       75347 non-null object\n",
      "Total Payments                  80000 non-null object\n",
      "Lump Sum Pay                    65157 non-null object\n",
      "Other Pay (Payroll Explorer)    80000 non-null object\n",
      "FMS Department                  80000 non-null int64\n",
      "Job Class                       80000 non-null int64\n",
      "Title                           80000 non-null object\n",
      "Average Benefit Cost            80000 non-null float64\n",
      "Time                            80000 non-null int64\n",
      "Department                      80000 non-null object\n",
      "p_dep                           64857 non-null float64\n",
      "e_type                          80000 non-null object\n",
      "Rate                            75347 non-null float64\n",
      "POBP                            39056 non-null object\n",
      "p_bonus                         80000 non-null object\n",
      "t_bonus                         80000 non-null object\n",
      "o_pay                           79700 non-null object\n",
      "long                            80000 non-null object\n",
      "e_pay                           80000 non-null object\n",
      "p_grade                         64857 non-null object\n",
      "insurance                       80000 non-null float64\n",
      "benefit                         65739 non-null object\n",
      "financial                       80000 non-null int64\n",
      "Salary                          80000 non-null object\n",
      "dtypes: float64(4), int64(4), object(18)\n",
      "memory usage: 16.5+ MB\n"
     ]
    }
   ],
   "source": [
    "df.info()\n",
    "\"\"\"Total payments, lump sum pay, other pay,POBP,p_bonus, t_bonus, o_pay, long,e_pay,Salary \"\"\""
   ]
  },
  {
   "cell_type": "code",
   "execution_count": 9,
   "metadata": {},
   "outputs": [
    {
     "data": {
      "text/plain": [
       "POBP                            0.511800\n",
       "p_dep                           0.189287\n",
       "p_grade                         0.189287\n",
       "Lump Sum Pay                    0.185537\n",
       "benefit                         0.178262\n",
       "MOU                             0.058162\n",
       "MOU Title                       0.058162\n",
       "Rate                            0.058162\n",
       "o_pay                           0.003750\n",
       "Average Benefit Cost            0.000000\n",
       "Total Payments                  0.000000\n",
       "Other Pay (Payroll Explorer)    0.000000\n",
       "FMS Department                  0.000000\n",
       "Job Class                       0.000000\n",
       "Title                           0.000000\n",
       "Salary                          0.000000\n",
       "Time                            0.000000\n",
       "Department                      0.000000\n",
       "financial                       0.000000\n",
       "e_type                          0.000000\n",
       "p_bonus                         0.000000\n",
       "t_bonus                         0.000000\n",
       "long                            0.000000\n",
       "e_pay                           0.000000\n",
       "insurance                       0.000000\n",
       "Record Number                   0.000000\n",
       "dtype: float64"
      ]
     },
     "execution_count": 9,
     "metadata": {},
     "output_type": "execute_result"
    }
   ],
   "source": [
    "null_rate = df.isnull().sum(axis = 0).sort_values(ascending = False)/float((len(df)))\n",
    "null_rate"
   ]
  }
 ],
 "metadata": {
  "kernelspec": {
   "display_name": "Python 3",
   "language": "python",
   "name": "python3"
  },
  "language_info": {
   "codemirror_mode": {
    "name": "ipython",
    "version": 3
   },
   "file_extension": ".py",
   "mimetype": "text/x-python",
   "name": "python",
   "nbconvert_exporter": "python",
   "pygments_lexer": "ipython3",
   "version": "3.6.1"
  }
 },
 "nbformat": 4,
 "nbformat_minor": 2
}
