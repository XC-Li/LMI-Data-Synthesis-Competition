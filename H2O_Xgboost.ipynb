{
 "cells": [
  {
   "cell_type": "code",
   "execution_count": 109,
   "metadata": {},
   "outputs": [],
   "source": [
    "\n",
    "# coding: utf-8\n",
    "import pandas as pd\n",
    "# These lines set up the plotting funstionality and formatting.\n",
    "import matplotlib \n",
    "matplotlib.use('Agg')\n",
    "import matplotlib.pyplot as plt\n",
    "import matplotlib.patches as mpatches\n",
    "import seaborn as sns\n",
    "matplotlib.use('Agg', warn = False)\n",
    "#get_ipython().run_line_magic('matplotlib', 'inline')\n",
    "\n",
    "import numpy as np\n",
    "\n",
    "\n",
    "from sklearn.metrics import accuracy_score, precision_score, recall_score\n",
    "\n",
    "from sklearn.model_selection import train_test_split\n",
    "\n",
    "from sklearn.datasets import make_classification\n",
    "from sklearn.ensemble import ExtraTreesClassifier\n",
    "from sklearn.ensemble import RandomForestClassifier\n",
    "from sklearn.metrics import confusion_matrix\n",
    "import itertools\n",
    "\n",
    "import h2o\n",
    "from h2o.automl import H2OAutoML\n",
    "\n",
    "from sklearn.metrics import mean_squared_error\n",
    "from sklearn.metrics import r2_score"
   ]
  },
  {
   "cell_type": "code",
   "execution_count": 15,
   "metadata": {},
   "outputs": [
    {
     "name": "stdout",
     "output_type": "stream",
     "text": [
      "Checking whether there is an H2O instance running at http://localhost:54321. connected.\n"
     ]
    },
    {
     "data": {
      "text/html": [
       "<div style=\"overflow:auto\"><table style=\"width:50%\"><tr><td>H2O cluster uptime:</td>\n",
       "<td>6 days 0 hours 54 mins</td></tr>\n",
       "<tr><td>H2O cluster timezone:</td>\n",
       "<td>America/New_York</td></tr>\n",
       "<tr><td>H2O data parsing timezone:</td>\n",
       "<td>UTC</td></tr>\n",
       "<tr><td>H2O cluster version:</td>\n",
       "<td>3.22.0.1</td></tr>\n",
       "<tr><td>H2O cluster version age:</td>\n",
       "<td>10 days </td></tr>\n",
       "<tr><td>H2O cluster name:</td>\n",
       "<td>H2O_from_python_xinyuzhang_ouafb2</td></tr>\n",
       "<tr><td>H2O cluster total nodes:</td>\n",
       "<td>1</td></tr>\n",
       "<tr><td>H2O cluster free memory:</td>\n",
       "<td>3.342 Gb</td></tr>\n",
       "<tr><td>H2O cluster total cores:</td>\n",
       "<td>8</td></tr>\n",
       "<tr><td>H2O cluster allowed cores:</td>\n",
       "<td>8</td></tr>\n",
       "<tr><td>H2O cluster status:</td>\n",
       "<td>locked, healthy</td></tr>\n",
       "<tr><td>H2O connection url:</td>\n",
       "<td>http://localhost:54321</td></tr>\n",
       "<tr><td>H2O connection proxy:</td>\n",
       "<td>None</td></tr>\n",
       "<tr><td>H2O internal security:</td>\n",
       "<td>False</td></tr>\n",
       "<tr><td>H2O API Extensions:</td>\n",
       "<td>XGBoost, Algos, AutoML, Core V3, Core V4</td></tr>\n",
       "<tr><td>Python version:</td>\n",
       "<td>3.6.4 final</td></tr></table></div>"
      ],
      "text/plain": [
       "--------------------------  ----------------------------------------\n",
       "H2O cluster uptime:         6 days 0 hours 54 mins\n",
       "H2O cluster timezone:       America/New_York\n",
       "H2O data parsing timezone:  UTC\n",
       "H2O cluster version:        3.22.0.1\n",
       "H2O cluster version age:    10 days\n",
       "H2O cluster name:           H2O_from_python_xinyuzhang_ouafb2\n",
       "H2O cluster total nodes:    1\n",
       "H2O cluster free memory:    3.342 Gb\n",
       "H2O cluster total cores:    8\n",
       "H2O cluster allowed cores:  8\n",
       "H2O cluster status:         locked, healthy\n",
       "H2O connection url:         http://localhost:54321\n",
       "H2O connection proxy:\n",
       "H2O internal security:      False\n",
       "H2O API Extensions:         XGBoost, Algos, AutoML, Core V3, Core V4\n",
       "Python version:             3.6.4 final\n",
       "--------------------------  ----------------------------------------"
      ]
     },
     "metadata": {},
     "output_type": "display_data"
    }
   ],
   "source": [
    "h2o.init()"
   ]
  },
  {
   "cell_type": "markdown",
   "metadata": {},
   "source": [
    "# 1. Load data"
   ]
  },
  {
   "cell_type": "code",
   "execution_count": 6,
   "metadata": {},
   "outputs": [],
   "source": [
    "df = pd.read_pickle(\"processed_data.pickle\")\n",
    "\n",
    "# remove 3 object columns: p_grade, benefit, e_type\n",
    "df = df.drop(['p_grade','benefit','e_type'], 1)\n"
   ]
  },
  {
   "cell_type": "code",
   "execution_count": 112,
   "metadata": {},
   "outputs": [
    {
     "data": {
      "text/plain": [
       "Index(['Total Payments', 'Lump Sum Pay', 'Other Pay (Payroll Explorer)',\n",
       "       'FMS Department', 'Job Class', 'Average Benefit Cost', 'Time', 'p_dep',\n",
       "       'Rate', 'p_bonus', 't_bonus', 'o_pay', 'long', 'e_pay', 'insurance',\n",
       "       'financial', 'Salary'],\n",
       "      dtype='object')"
      ]
     },
     "execution_count": 112,
     "metadata": {},
     "output_type": "execute_result"
    }
   ],
   "source": [
    "df.columns"
   ]
  },
  {
   "cell_type": "markdown",
   "metadata": {},
   "source": [
    "# 2. Data spliting into test and train"
   ]
  },
  {
   "cell_type": "code",
   "execution_count": 11,
   "metadata": {},
   "outputs": [],
   "source": [
    "X_train, X_test, y_train, y_test = train_test_split(df.iloc[:,:16], df.iloc[:,16], test_size=0.33, random_state=42)\n"
   ]
  },
  {
   "cell_type": "code",
   "execution_count": 12,
   "metadata": {},
   "outputs": [],
   "source": [
    "train = pd.concat([X_train, y_train], axis=1,join_axes=[X_train.index])\n",
    "test = pd.concat([X_test, y_test], axis = 1, join_axes = [X_test.index])"
   ]
  },
  {
   "cell_type": "markdown",
   "metadata": {},
   "source": [
    "# 3. use H2O to do automated model building and parameter training"
   ]
  },
  {
   "cell_type": "code",
   "execution_count": 16,
   "metadata": {},
   "outputs": [
    {
     "name": "stdout",
     "output_type": "stream",
     "text": [
      "Parse progress: |█████████████████████████████████████████████████████████| 100%\n"
     ]
    }
   ],
   "source": [
    "h2oTest = h2o.H2OFrame(test)"
   ]
  },
  {
   "cell_type": "code",
   "execution_count": 17,
   "metadata": {},
   "outputs": [
    {
     "name": "stdout",
     "output_type": "stream",
     "text": [
      "Parse progress: |█████████████████████████████████████████████████████████| 100%\n"
     ]
    }
   ],
   "source": [
    "h2oTrain = h2o.H2OFrame(train)"
   ]
  },
  {
   "cell_type": "code",
   "execution_count": 18,
   "metadata": {},
   "outputs": [
    {
     "name": "stdout",
     "output_type": "stream",
     "text": [
      "AutoML progress: |████████████████████████████████████████████████████████| 100%\n"
     ]
    }
   ],
   "source": [
    "aml=H2OAutoML(max_models=15, seed = 1)\n",
    "aml.train(x = h2oTrain.columns, y = \"Salary\", training_frame=h2oTrain)"
   ]
  },
  {
   "cell_type": "code",
   "execution_count": 19,
   "metadata": {},
   "outputs": [
    {
     "data": {
      "text/html": [
       "<table>\n",
       "<thead>\n",
       "<tr><th>model_id                                           </th><th style=\"text-align: right;\">  mean_residual_deviance</th><th style=\"text-align: right;\">    rmse</th><th style=\"text-align: right;\">        mse</th><th style=\"text-align: right;\">      mae</th><th style=\"text-align: right;\">  rmsle</th></tr>\n",
       "</thead>\n",
       "<tbody>\n",
       "<tr><td>XGBoost_1_AutoML_20181105_211213                   </td><td style=\"text-align: right;\">             3.1793e+06 </td><td style=\"text-align: right;\"> 1783.06</td><td style=\"text-align: right;\">3.1793e+06 </td><td style=\"text-align: right;\">  725.01 </td><td style=\"text-align: right;\">    nan</td></tr>\n",
       "<tr><td>GBM_1_AutoML_20181105_211213                       </td><td style=\"text-align: right;\">             3.88976e+06</td><td style=\"text-align: right;\"> 1972.25</td><td style=\"text-align: right;\">3.88976e+06</td><td style=\"text-align: right;\">  791.208</td><td style=\"text-align: right;\">    nan</td></tr>\n",
       "<tr><td>XGBoost_2_AutoML_20181105_211213                   </td><td style=\"text-align: right;\">             4.85811e+06</td><td style=\"text-align: right;\"> 2204.11</td><td style=\"text-align: right;\">4.85811e+06</td><td style=\"text-align: right;\">  918.586</td><td style=\"text-align: right;\">    nan</td></tr>\n",
       "<tr><td>XGBoost_3_AutoML_20181105_211213                   </td><td style=\"text-align: right;\">             5.43043e+06</td><td style=\"text-align: right;\"> 2330.33</td><td style=\"text-align: right;\">5.43043e+06</td><td style=\"text-align: right;\"> 1015.62 </td><td style=\"text-align: right;\">    nan</td></tr>\n",
       "<tr><td>XRT_1_AutoML_20181105_211213                       </td><td style=\"text-align: right;\">             8.90025e+06</td><td style=\"text-align: right;\"> 2983.33</td><td style=\"text-align: right;\">8.90025e+06</td><td style=\"text-align: right;\"> 1162.5  </td><td style=\"text-align: right;\">    nan</td></tr>\n",
       "<tr><td>DRF_1_AutoML_20181105_211213                       </td><td style=\"text-align: right;\">             9.0217e+06 </td><td style=\"text-align: right;\"> 3003.62</td><td style=\"text-align: right;\">9.0217e+06 </td><td style=\"text-align: right;\"> 1162.99 </td><td style=\"text-align: right;\">    nan</td></tr>\n",
       "<tr><td>StackedEnsemble_AllModels_AutoML_20181105_211213   </td><td style=\"text-align: right;\">             4.10409e+08</td><td style=\"text-align: right;\">20258.6 </td><td style=\"text-align: right;\">4.10409e+08</td><td style=\"text-align: right;\">17194.1  </td><td style=\"text-align: right;\">    nan</td></tr>\n",
       "<tr><td>StackedEnsemble_BestOfFamily_AutoML_20181105_211213</td><td style=\"text-align: right;\">             1.71836e+09</td><td style=\"text-align: right;\">41453.2 </td><td style=\"text-align: right;\">1.71836e+09</td><td style=\"text-align: right;\">35318.2  </td><td style=\"text-align: right;\">    nan</td></tr>\n",
       "<tr><td>GLM_grid_1_AutoML_20181105_211213_model_1          </td><td style=\"text-align: right;\">             1.71851e+09</td><td style=\"text-align: right;\">41454.9 </td><td style=\"text-align: right;\">1.71851e+09</td><td style=\"text-align: right;\">35319.2  </td><td style=\"text-align: right;\">    nan</td></tr>\n",
       "</tbody>\n",
       "</table>"
      ]
     },
     "metadata": {},
     "output_type": "display_data"
    },
    {
     "data": {
      "text/plain": []
     },
     "execution_count": 19,
     "metadata": {},
     "output_type": "execute_result"
    }
   ],
   "source": [
    "lb = aml.leaderboard\n",
    "lb.head(rows = lb.nrows)"
   ]
  },
  {
   "cell_type": "code",
   "execution_count": 20,
   "metadata": {},
   "outputs": [
    {
     "name": "stdout",
     "output_type": "stream",
     "text": [
      "Model Details\n",
      "=============\n",
      "H2OXGBoostEstimator :  XGBoost\n",
      "Model Key:  XGBoost_1_AutoML_20181105_211213\n",
      "\n",
      "\n",
      "ModelMetricsRegression: xgboost\n",
      "** Reported on train data. **\n",
      "\n",
      "MSE: 686012.2652432239\n",
      "RMSE: 828.2585739026333\n",
      "MAE: 563.1957504370328\n",
      "RMSLE: NaN\n",
      "Mean Residual Deviance: 686012.2652432239\n",
      "\n",
      "ModelMetricsRegression: xgboost\n",
      "** Reported on validation data. **\n",
      "\n",
      "MSE: 2433921.4813856743\n",
      "RMSE: 1560.1030355029998\n",
      "MAE: 753.3167046843388\n",
      "RMSLE: NaN\n",
      "Mean Residual Deviance: 2433921.4813856743\n",
      "\n",
      "ModelMetricsRegression: xgboost\n",
      "** Reported on cross-validation data. **\n",
      "\n",
      "MSE: 3179303.4861155692\n",
      "RMSE: 1783.060146522144\n",
      "MAE: 725.0104331123545\n",
      "RMSLE: NaN\n",
      "Mean Residual Deviance: 3179303.4861155692\n",
      "Cross-Validation Metrics Summary: \n"
     ]
    },
    {
     "data": {
      "text/html": [
       "<div style=\"overflow:auto\"><table style=\"width:50%\"><tr><td><b></b></td>\n",
       "<td><b>mean</b></td>\n",
       "<td><b>sd</b></td>\n",
       "<td><b>cv_1_valid</b></td>\n",
       "<td><b>cv_2_valid</b></td>\n",
       "<td><b>cv_3_valid</b></td>\n",
       "<td><b>cv_4_valid</b></td>\n",
       "<td><b>cv_5_valid</b></td></tr>\n",
       "<tr><td>mae</td>\n",
       "<td>725.0117</td>\n",
       "<td>32.675816</td>\n",
       "<td>712.018</td>\n",
       "<td>674.969</td>\n",
       "<td>693.80396</td>\n",
       "<td>736.1543</td>\n",
       "<td>808.11346</td></tr>\n",
       "<tr><td>mean_residual_deviance</td>\n",
       "<td>3179327.0</td>\n",
       "<td>816587.1</td>\n",
       "<td>3063440.8</td>\n",
       "<td>2162767.5</td>\n",
       "<td>2292803.5</td>\n",
       "<td>3006170.5</td>\n",
       "<td>5371453.0</td></tr>\n",
       "<tr><td>mse</td>\n",
       "<td>3179327.0</td>\n",
       "<td>816587.1</td>\n",
       "<td>3063440.8</td>\n",
       "<td>2162767.5</td>\n",
       "<td>2292803.5</td>\n",
       "<td>3006170.5</td>\n",
       "<td>5371453.0</td></tr>\n",
       "<tr><td>r2</td>\n",
       "<td>0.9981547</td>\n",
       "<td>0.0004622</td>\n",
       "<td>0.9982519</td>\n",
       "<td>0.9987214</td>\n",
       "<td>0.9986555</td>\n",
       "<td>0.9982344</td>\n",
       "<td>0.9969103</td></tr>\n",
       "<tr><td>residual_deviance</td>\n",
       "<td>3179327.0</td>\n",
       "<td>816587.1</td>\n",
       "<td>3063440.8</td>\n",
       "<td>2162767.5</td>\n",
       "<td>2292803.5</td>\n",
       "<td>3006170.5</td>\n",
       "<td>5371453.0</td></tr>\n",
       "<tr><td>rmse</td>\n",
       "<td>1757.3151</td>\n",
       "<td>213.50754</td>\n",
       "<td>1750.2688</td>\n",
       "<td>1470.635</td>\n",
       "<td>1514.2006</td>\n",
       "<td>1733.8312</td>\n",
       "<td>2317.6394</td></tr>\n",
       "<tr><td>rmsle</td>\n",
       "<td>0.0</td>\n",
       "<td>NaN</td>\n",
       "<td>NaN</td>\n",
       "<td>NaN</td>\n",
       "<td>NaN</td>\n",
       "<td>NaN</td>\n",
       "<td>NaN</td></tr></table></div>"
      ],
      "text/plain": [
       "                        mean         sd          cv_1_valid    cv_2_valid    cv_3_valid    cv_4_valid    cv_5_valid\n",
       "----------------------  -----------  ----------  ------------  ------------  ------------  ------------  ------------\n",
       "mae                     725.012      32.6758     712.018       674.969       693.804       736.154       808.113\n",
       "mean_residual_deviance  3.17933e+06  816587      3.06344e+06   2.16277e+06   2.2928e+06    3.00617e+06   5.37145e+06\n",
       "mse                     3.17933e+06  816587      3.06344e+06   2.16277e+06   2.2928e+06    3.00617e+06   5.37145e+06\n",
       "r2                      0.998155     0.00046219  0.998252      0.998721      0.998656      0.998234      0.99691\n",
       "residual_deviance       3.17933e+06  816587      3.06344e+06   2.16277e+06   2.2928e+06    3.00617e+06   5.37145e+06\n",
       "rmse                    1757.32      213.508     1750.27       1470.63       1514.2        1733.83       2317.64\n",
       "rmsle                   0            nan         nan           nan           nan           nan           nan"
      ]
     },
     "metadata": {},
     "output_type": "display_data"
    },
    {
     "name": "stdout",
     "output_type": "stream",
     "text": [
      "Scoring History: \n"
     ]
    },
    {
     "data": {
      "text/html": [
       "<div style=\"overflow:auto\"><table style=\"width:50%\"><tr><td><b></b></td>\n",
       "<td><b>timestamp</b></td>\n",
       "<td><b>duration</b></td>\n",
       "<td><b>number_of_trees</b></td>\n",
       "<td><b>training_rmse</b></td>\n",
       "<td><b>training_mae</b></td>\n",
       "<td><b>training_deviance</b></td>\n",
       "<td><b>validation_rmse</b></td>\n",
       "<td><b>validation_mae</b></td>\n",
       "<td><b>validation_deviance</b></td></tr>\n",
       "<tr><td></td>\n",
       "<td>2018-11-05 21:36:42</td>\n",
       "<td>22 min 11.803 sec</td>\n",
       "<td>0.0</td>\n",
       "<td>72464.0991121</td>\n",
       "<td>59436.5613438</td>\n",
       "<td>5251045660.1293154</td>\n",
       "<td>72349.2184601</td>\n",
       "<td>59352.0224064</td>\n",
       "<td>5234409411.7811594</td></tr>\n",
       "<tr><td></td>\n",
       "<td>2018-11-05 21:36:42</td>\n",
       "<td>22 min 12.030 sec</td>\n",
       "<td>5.0</td>\n",
       "<td>56554.3757333</td>\n",
       "<td>46094.1630123</td>\n",
       "<td>3198397414.5884237</td>\n",
       "<td>56452.5895897</td>\n",
       "<td>46042.6007912</td>\n",
       "<td>3186894871.3840971</td></tr>\n",
       "<tr><td></td>\n",
       "<td>2018-11-05 21:36:42</td>\n",
       "<td>22 min 12.186 sec</td>\n",
       "<td>10.0</td>\n",
       "<td>44505.2948626</td>\n",
       "<td>35921.1067508</td>\n",
       "<td>1980721270.8029368</td>\n",
       "<td>44399.3464881</td>\n",
       "<td>35888.0947334</td>\n",
       "<td>1971301968.5707896</td></tr>\n",
       "<tr><td></td>\n",
       "<td>2018-11-05 21:36:43</td>\n",
       "<td>22 min 12.354 sec</td>\n",
       "<td>15.0</td>\n",
       "<td>35186.6292065</td>\n",
       "<td>28201.9408835</td>\n",
       "<td>1238098874.9159818</td>\n",
       "<td>35071.7362866</td>\n",
       "<td>28176.5120574</td>\n",
       "<td>1230026686.1558406</td></tr>\n",
       "<tr><td></td>\n",
       "<td>2018-11-05 21:36:43</td>\n",
       "<td>22 min 12.521 sec</td>\n",
       "<td>20.0</td>\n",
       "<td>27768.0008490</td>\n",
       "<td>22066.4224011</td>\n",
       "<td>771061871.1477618</td>\n",
       "<td>27662.4544458</td>\n",
       "<td>22045.9857803</td>\n",
       "<td>765211385.9686179</td></tr>\n",
       "<tr><td>---</td>\n",
       "<td>---</td>\n",
       "<td>---</td>\n",
       "<td>---</td>\n",
       "<td>---</td>\n",
       "<td>---</td>\n",
       "<td>---</td>\n",
       "<td>---</td>\n",
       "<td>---</td>\n",
       "<td>---</td></tr>\n",
       "<tr><td></td>\n",
       "<td>2018-11-05 21:39:24</td>\n",
       "<td>24 min 53.534 sec</td>\n",
       "<td>1155.0</td>\n",
       "<td>834.9169298</td>\n",
       "<td>567.7301326</td>\n",
       "<td>697086.2796984</td>\n",
       "<td>1563.4995583</td>\n",
       "<td>756.9622240</td>\n",
       "<td>2444530.8687294</td></tr>\n",
       "<tr><td></td>\n",
       "<td>2018-11-05 21:39:25</td>\n",
       "<td>24 min 55.188 sec</td>\n",
       "<td>1160.0</td>\n",
       "<td>833.4653585</td>\n",
       "<td>566.4855722</td>\n",
       "<td>694664.5038818</td>\n",
       "<td>1562.6905523</td>\n",
       "<td>755.9120653</td>\n",
       "<td>2442001.7620951</td></tr>\n",
       "<tr><td></td>\n",
       "<td>2018-11-05 21:39:27</td>\n",
       "<td>24 min 56.847 sec</td>\n",
       "<td>1165.0</td>\n",
       "<td>831.3410824</td>\n",
       "<td>564.9154586</td>\n",
       "<td>691127.9952386</td>\n",
       "<td>1561.8799571</td>\n",
       "<td>754.5913582</td>\n",
       "<td>2439469.0003443</td></tr>\n",
       "<tr><td></td>\n",
       "<td>2018-11-05 21:39:29</td>\n",
       "<td>24 min 58.518 sec</td>\n",
       "<td>1170.0</td>\n",
       "<td>829.1323071</td>\n",
       "<td>563.6323581</td>\n",
       "<td>687460.3827516</td>\n",
       "<td>1560.8289232</td>\n",
       "<td>753.6601954</td>\n",
       "<td>2436186.9274145</td></tr>\n",
       "<tr><td></td>\n",
       "<td>2018-11-05 21:39:30</td>\n",
       "<td>25 min  0.112 sec</td>\n",
       "<td>1173.0</td>\n",
       "<td>828.2585739</td>\n",
       "<td>563.1957504</td>\n",
       "<td>686012.2652432</td>\n",
       "<td>1560.1030355</td>\n",
       "<td>753.3167047</td>\n",
       "<td>2433921.4813857</td></tr></table></div>"
      ],
      "text/plain": [
       "     timestamp            duration           number_of_trees    training_rmse       training_mae        training_deviance    validation_rmse     validation_mae      validation_deviance\n",
       "---  -------------------  -----------------  -----------------  ------------------  ------------------  -------------------  ------------------  ------------------  ---------------------\n",
       "     2018-11-05 21:36:42  22 min 11.803 sec  0.0                72464.09911210733   59436.56134383876   5251045660.129315    72349.21846005773   59352.02240643434   5234409411.781159\n",
       "     2018-11-05 21:36:42  22 min 12.030 sec  5.0                56554.37573334555   46094.163012339384  3198397414.5884237   56452.58958970879   46042.60079123307   3186894871.384097\n",
       "     2018-11-05 21:36:42  22 min 12.186 sec  10.0               44505.29486255469   35921.10675081927   1980721270.8029368   44399.346488104864  35888.0947333692    1971301968.5707896\n",
       "     2018-11-05 21:36:43  22 min 12.354 sec  15.0               35186.629206503734  28201.94088354052   1238098874.9159818   35071.73628658611   28176.512057449523  1230026686.1558406\n",
       "     2018-11-05 21:36:43  22 min 12.521 sec  20.0               27768.000848958534  22066.422401084452  771061871.1477618    27662.454445848038  22045.985780296807  765211385.9686179\n",
       "---  ---                  ---                ---                ---                 ---                 ---                  ---                 ---                 ---\n",
       "     2018-11-05 21:39:24  24 min 53.534 sec  1155.0             834.9169298190025   567.7301325843778   697086.279698389     1563.4995582760512  756.9622240417873   2444530.8687294074\n",
       "     2018-11-05 21:39:25  24 min 55.188 sec  1160.0             833.4653585373401   566.4855721656276   694664.5038817768    1562.6905522511659  755.9120653384733   2442001.7620950537\n",
       "     2018-11-05 21:39:27  24 min 56.847 sec  1165.0             831.341082371487    564.9154585930289   691127.9952385955    1561.8799570851518  754.5913582130459   2439469.0003443155\n",
       "     2018-11-05 21:39:29  24 min 58.518 sec  1170.0             829.1323071450088   563.6323580570345   687460.3827516052    1560.8289231733431  753.6601954088356   2436186.927414458\n",
       "     2018-11-05 21:39:30  25 min  0.112 sec  1173.0             828.2585739026333   563.1957504370328   686012.2652432239    1560.1030355029998  753.3167046843388   2433921.4813856743"
      ]
     },
     "metadata": {},
     "output_type": "display_data"
    },
    {
     "name": "stdout",
     "output_type": "stream",
     "text": [
      "\n",
      "See the whole table with table.as_data_frame()\n",
      "Variable Importances: \n"
     ]
    },
    {
     "data": {
      "text/html": [
       "<div style=\"overflow:auto\"><table style=\"width:50%\"><tr><td><b>variable</b></td>\n",
       "<td><b>relative_importance</b></td>\n",
       "<td><b>scaled_importance</b></td>\n",
       "<td><b>percentage</b></td></tr>\n",
       "<tr><td>TotalPayments</td>\n",
       "<td>6168.0</td>\n",
       "<td>1.0</td>\n",
       "<td>0.1928645</td></tr>\n",
       "<tr><td>Rate</td>\n",
       "<td>4983.0</td>\n",
       "<td>0.8078794</td>\n",
       "<td>0.1558113</td></tr>\n",
       "<tr><td>o_pay</td>\n",
       "<td>3670.0</td>\n",
       "<td>0.5950065</td>\n",
       "<td>0.1147556</td></tr>\n",
       "<tr><td>OtherPay(PayrollExplorer)</td>\n",
       "<td>3289.0</td>\n",
       "<td>0.5332361</td>\n",
       "<td>0.1028423</td></tr>\n",
       "<tr><td>JobClass</td>\n",
       "<td>2414.0</td>\n",
       "<td>0.3913748</td>\n",
       "<td>0.0754823</td></tr>\n",
       "<tr><td>e_pay</td>\n",
       "<td>2299.0</td>\n",
       "<td>0.3727302</td>\n",
       "<td>0.0718864</td></tr>\n",
       "<tr><td>LumpSumPay</td>\n",
       "<td>1579.0</td>\n",
       "<td>0.2559987</td>\n",
       "<td>0.0493731</td></tr>\n",
       "<tr><td>p_bonus</td>\n",
       "<td>1536.0</td>\n",
       "<td>0.2490272</td>\n",
       "<td>0.0480285</td></tr>\n",
       "<tr><td>AverageBenefitCost</td>\n",
       "<td>1457.0</td>\n",
       "<td>0.2362192</td>\n",
       "<td>0.0455583</td></tr>\n",
       "<tr><td>Time</td>\n",
       "<td>1344.0</td>\n",
       "<td>0.2178988</td>\n",
       "<td>0.0420250</td></tr>\n",
       "<tr><td>t_bonus</td>\n",
       "<td>928.0</td>\n",
       "<td>0.1504540</td>\n",
       "<td>0.0290172</td></tr>\n",
       "<tr><td>long</td>\n",
       "<td>833.0</td>\n",
       "<td>0.1350519</td>\n",
       "<td>0.0260467</td></tr>\n",
       "<tr><td>insurance</td>\n",
       "<td>622.0</td>\n",
       "<td>0.1008431</td>\n",
       "<td>0.0194490</td></tr>\n",
       "<tr><td>FMSDepartment</td>\n",
       "<td>482.0</td>\n",
       "<td>0.0781453</td>\n",
       "<td>0.0150714</td></tr>\n",
       "<tr><td>p_dep</td>\n",
       "<td>285.0</td>\n",
       "<td>0.0462062</td>\n",
       "<td>0.0089115</td></tr>\n",
       "<tr><td>financial</td>\n",
       "<td>92.0</td>\n",
       "<td>0.0149157</td>\n",
       "<td>0.0028767</td></tr></table></div>"
      ],
      "text/plain": [
       "variable                   relative_importance    scaled_importance    percentage\n",
       "-------------------------  ---------------------  -------------------  ------------\n",
       "TotalPayments              6168                   1                    0.192865\n",
       "Rate                       4983                   0.807879             0.155811\n",
       "o_pay                      3670                   0.595006             0.114756\n",
       "OtherPay(PayrollExplorer)  3289                   0.533236             0.102842\n",
       "JobClass                   2414                   0.391375             0.0754823\n",
       "e_pay                      2299                   0.37273              0.0718864\n",
       "LumpSumPay                 1579                   0.255999             0.0493731\n",
       "p_bonus                    1536                   0.249027             0.0480285\n",
       "AverageBenefitCost         1457                   0.236219             0.0455583\n",
       "Time                       1344                   0.217899             0.042025\n",
       "t_bonus                    928                    0.150454             0.0290172\n",
       "long                       833                    0.135052             0.0260467\n",
       "insurance                  622                    0.100843             0.019449\n",
       "FMSDepartment              482                    0.0781453            0.0150714\n",
       "p_dep                      285                    0.0462062            0.00891154\n",
       "financial                  92                     0.0149157            0.00287671"
      ]
     },
     "metadata": {},
     "output_type": "display_data"
    },
    {
     "data": {
      "text/plain": []
     },
     "execution_count": 20,
     "metadata": {},
     "output_type": "execute_result"
    }
   ],
   "source": [
    "aml.leader"
   ]
  },
  {
   "cell_type": "markdown",
   "metadata": {},
   "source": [
    "# 4. Save the Xgboost Model: "
   ]
  },
  {
   "cell_type": "code",
   "execution_count": 127,
   "metadata": {},
   "outputs": [],
   "source": [
    "#save the model:\n",
    "model_path = h2o.save_model(model = aml.leader, path = \"./\",force = True)"
   ]
  },
  {
   "cell_type": "code",
   "execution_count": 128,
   "metadata": {},
   "outputs": [
    {
     "name": "stdout",
     "output_type": "stream",
     "text": [
      "/Users/xinyuzhang/Desktop/hackthon_gwu/XGBoost_1_AutoML_20181105_211213\n"
     ]
    }
   ],
   "source": [
    "print(model_path)"
   ]
  },
  {
   "cell_type": "code",
   "execution_count": 129,
   "metadata": {},
   "outputs": [
    {
     "data": {
      "text/plain": [
       "str"
      ]
     },
     "execution_count": 129,
     "metadata": {},
     "output_type": "execute_result"
    }
   ],
   "source": [
    "type(model_path)"
   ]
  },
  {
   "cell_type": "markdown",
   "metadata": {},
   "source": [
    "# 5. Prediction and output"
   ]
  },
  {
   "cell_type": "code",
   "execution_count": 25,
   "metadata": {},
   "outputs": [
    {
     "name": "stdout",
     "output_type": "stream",
     "text": [
      "xgboost prediction progress: |████████████████████████████████████████████| 100%\n"
     ]
    }
   ],
   "source": [
    "preds = aml.leader.predict(h2oTest)\n",
    "preds = preds.as_data_frame()"
   ]
  },
  {
   "cell_type": "code",
   "execution_count": 32,
   "metadata": {},
   "outputs": [
    {
     "name": "stdout",
     "output_type": "stream",
     "text": [
      "xgboost prediction progress: |████████████████████████████████████████████| 100%\n"
     ]
    }
   ],
   "source": [
    "train_preds = aml.leader.predict(h2oTrain)\n",
    "train_preds = train_preds.as_data_frame()"
   ]
  },
  {
   "cell_type": "code",
   "execution_count": 26,
   "metadata": {},
   "outputs": [
    {
     "data": {
      "text/plain": [
       "3007148.555364304"
      ]
     },
     "execution_count": 26,
     "metadata": {},
     "output_type": "execute_result"
    }
   ],
   "source": [
    "from sklearn.metrics import mean_squared_error\n",
    "mean_squared_error(y_test, preds)"
   ]
  },
  {
   "cell_type": "code",
   "execution_count": 27,
   "metadata": {},
   "outputs": [
    {
     "name": "stdout",
     "output_type": "stream",
     "text": [
      "Model Details\n",
      "=============\n",
      "H2OXGBoostEstimator :  XGBoost\n",
      "Model Key:  XGBoost_1_AutoML_20181105_211213\n",
      "\n",
      "\n",
      "ModelMetricsRegression: xgboost\n",
      "** Reported on train data. **\n",
      "\n",
      "MSE: 686012.2652432239\n",
      "RMSE: 828.2585739026333\n",
      "MAE: 563.1957504370328\n",
      "RMSLE: NaN\n",
      "Mean Residual Deviance: 686012.2652432239\n",
      "\n",
      "ModelMetricsRegression: xgboost\n",
      "** Reported on validation data. **\n",
      "\n",
      "MSE: 2433921.4813856743\n",
      "RMSE: 1560.1030355029998\n",
      "MAE: 753.3167046843388\n",
      "RMSLE: NaN\n",
      "Mean Residual Deviance: 2433921.4813856743\n",
      "\n",
      "ModelMetricsRegression: xgboost\n",
      "** Reported on cross-validation data. **\n",
      "\n",
      "MSE: 3179303.4861155692\n",
      "RMSE: 1783.060146522144\n",
      "MAE: 725.0104331123545\n",
      "RMSLE: NaN\n",
      "Mean Residual Deviance: 3179303.4861155692\n",
      "Cross-Validation Metrics Summary: \n"
     ]
    },
    {
     "data": {
      "text/html": [
       "<div style=\"overflow:auto\"><table style=\"width:50%\"><tr><td><b></b></td>\n",
       "<td><b>mean</b></td>\n",
       "<td><b>sd</b></td>\n",
       "<td><b>cv_1_valid</b></td>\n",
       "<td><b>cv_2_valid</b></td>\n",
       "<td><b>cv_3_valid</b></td>\n",
       "<td><b>cv_4_valid</b></td>\n",
       "<td><b>cv_5_valid</b></td></tr>\n",
       "<tr><td>mae</td>\n",
       "<td>725.0117</td>\n",
       "<td>32.675816</td>\n",
       "<td>712.018</td>\n",
       "<td>674.969</td>\n",
       "<td>693.80396</td>\n",
       "<td>736.1543</td>\n",
       "<td>808.11346</td></tr>\n",
       "<tr><td>mean_residual_deviance</td>\n",
       "<td>3179327.0</td>\n",
       "<td>816587.1</td>\n",
       "<td>3063440.8</td>\n",
       "<td>2162767.5</td>\n",
       "<td>2292803.5</td>\n",
       "<td>3006170.5</td>\n",
       "<td>5371453.0</td></tr>\n",
       "<tr><td>mse</td>\n",
       "<td>3179327.0</td>\n",
       "<td>816587.1</td>\n",
       "<td>3063440.8</td>\n",
       "<td>2162767.5</td>\n",
       "<td>2292803.5</td>\n",
       "<td>3006170.5</td>\n",
       "<td>5371453.0</td></tr>\n",
       "<tr><td>r2</td>\n",
       "<td>0.9981547</td>\n",
       "<td>0.0004622</td>\n",
       "<td>0.9982519</td>\n",
       "<td>0.9987214</td>\n",
       "<td>0.9986555</td>\n",
       "<td>0.9982344</td>\n",
       "<td>0.9969103</td></tr>\n",
       "<tr><td>residual_deviance</td>\n",
       "<td>3179327.0</td>\n",
       "<td>816587.1</td>\n",
       "<td>3063440.8</td>\n",
       "<td>2162767.5</td>\n",
       "<td>2292803.5</td>\n",
       "<td>3006170.5</td>\n",
       "<td>5371453.0</td></tr>\n",
       "<tr><td>rmse</td>\n",
       "<td>1757.3151</td>\n",
       "<td>213.50754</td>\n",
       "<td>1750.2688</td>\n",
       "<td>1470.635</td>\n",
       "<td>1514.2006</td>\n",
       "<td>1733.8312</td>\n",
       "<td>2317.6394</td></tr>\n",
       "<tr><td>rmsle</td>\n",
       "<td>0.0</td>\n",
       "<td>NaN</td>\n",
       "<td>NaN</td>\n",
       "<td>NaN</td>\n",
       "<td>NaN</td>\n",
       "<td>NaN</td>\n",
       "<td>NaN</td></tr></table></div>"
      ],
      "text/plain": [
       "                        mean         sd          cv_1_valid    cv_2_valid    cv_3_valid    cv_4_valid    cv_5_valid\n",
       "----------------------  -----------  ----------  ------------  ------------  ------------  ------------  ------------\n",
       "mae                     725.012      32.6758     712.018       674.969       693.804       736.154       808.113\n",
       "mean_residual_deviance  3.17933e+06  816587      3.06344e+06   2.16277e+06   2.2928e+06    3.00617e+06   5.37145e+06\n",
       "mse                     3.17933e+06  816587      3.06344e+06   2.16277e+06   2.2928e+06    3.00617e+06   5.37145e+06\n",
       "r2                      0.998155     0.00046219  0.998252      0.998721      0.998656      0.998234      0.99691\n",
       "residual_deviance       3.17933e+06  816587      3.06344e+06   2.16277e+06   2.2928e+06    3.00617e+06   5.37145e+06\n",
       "rmse                    1757.32      213.508     1750.27       1470.63       1514.2        1733.83       2317.64\n",
       "rmsle                   0            nan         nan           nan           nan           nan           nan"
      ]
     },
     "metadata": {},
     "output_type": "display_data"
    },
    {
     "name": "stdout",
     "output_type": "stream",
     "text": [
      "Scoring History: \n"
     ]
    },
    {
     "data": {
      "text/html": [
       "<div style=\"overflow:auto\"><table style=\"width:50%\"><tr><td><b></b></td>\n",
       "<td><b>timestamp</b></td>\n",
       "<td><b>duration</b></td>\n",
       "<td><b>number_of_trees</b></td>\n",
       "<td><b>training_rmse</b></td>\n",
       "<td><b>training_mae</b></td>\n",
       "<td><b>training_deviance</b></td>\n",
       "<td><b>validation_rmse</b></td>\n",
       "<td><b>validation_mae</b></td>\n",
       "<td><b>validation_deviance</b></td></tr>\n",
       "<tr><td></td>\n",
       "<td>2018-11-05 21:36:42</td>\n",
       "<td>22 min 11.803 sec</td>\n",
       "<td>0.0</td>\n",
       "<td>72464.0991121</td>\n",
       "<td>59436.5613438</td>\n",
       "<td>5251045660.1293154</td>\n",
       "<td>72349.2184601</td>\n",
       "<td>59352.0224064</td>\n",
       "<td>5234409411.7811594</td></tr>\n",
       "<tr><td></td>\n",
       "<td>2018-11-05 21:36:42</td>\n",
       "<td>22 min 12.030 sec</td>\n",
       "<td>5.0</td>\n",
       "<td>56554.3757333</td>\n",
       "<td>46094.1630123</td>\n",
       "<td>3198397414.5884237</td>\n",
       "<td>56452.5895897</td>\n",
       "<td>46042.6007912</td>\n",
       "<td>3186894871.3840971</td></tr>\n",
       "<tr><td></td>\n",
       "<td>2018-11-05 21:36:42</td>\n",
       "<td>22 min 12.186 sec</td>\n",
       "<td>10.0</td>\n",
       "<td>44505.2948626</td>\n",
       "<td>35921.1067508</td>\n",
       "<td>1980721270.8029368</td>\n",
       "<td>44399.3464881</td>\n",
       "<td>35888.0947334</td>\n",
       "<td>1971301968.5707896</td></tr>\n",
       "<tr><td></td>\n",
       "<td>2018-11-05 21:36:43</td>\n",
       "<td>22 min 12.354 sec</td>\n",
       "<td>15.0</td>\n",
       "<td>35186.6292065</td>\n",
       "<td>28201.9408835</td>\n",
       "<td>1238098874.9159818</td>\n",
       "<td>35071.7362866</td>\n",
       "<td>28176.5120574</td>\n",
       "<td>1230026686.1558406</td></tr>\n",
       "<tr><td></td>\n",
       "<td>2018-11-05 21:36:43</td>\n",
       "<td>22 min 12.521 sec</td>\n",
       "<td>20.0</td>\n",
       "<td>27768.0008490</td>\n",
       "<td>22066.4224011</td>\n",
       "<td>771061871.1477618</td>\n",
       "<td>27662.4544458</td>\n",
       "<td>22045.9857803</td>\n",
       "<td>765211385.9686179</td></tr>\n",
       "<tr><td>---</td>\n",
       "<td>---</td>\n",
       "<td>---</td>\n",
       "<td>---</td>\n",
       "<td>---</td>\n",
       "<td>---</td>\n",
       "<td>---</td>\n",
       "<td>---</td>\n",
       "<td>---</td>\n",
       "<td>---</td></tr>\n",
       "<tr><td></td>\n",
       "<td>2018-11-05 21:39:24</td>\n",
       "<td>24 min 53.534 sec</td>\n",
       "<td>1155.0</td>\n",
       "<td>834.9169298</td>\n",
       "<td>567.7301326</td>\n",
       "<td>697086.2796984</td>\n",
       "<td>1563.4995583</td>\n",
       "<td>756.9622240</td>\n",
       "<td>2444530.8687294</td></tr>\n",
       "<tr><td></td>\n",
       "<td>2018-11-05 21:39:25</td>\n",
       "<td>24 min 55.188 sec</td>\n",
       "<td>1160.0</td>\n",
       "<td>833.4653585</td>\n",
       "<td>566.4855722</td>\n",
       "<td>694664.5038818</td>\n",
       "<td>1562.6905523</td>\n",
       "<td>755.9120653</td>\n",
       "<td>2442001.7620951</td></tr>\n",
       "<tr><td></td>\n",
       "<td>2018-11-05 21:39:27</td>\n",
       "<td>24 min 56.847 sec</td>\n",
       "<td>1165.0</td>\n",
       "<td>831.3410824</td>\n",
       "<td>564.9154586</td>\n",
       "<td>691127.9952386</td>\n",
       "<td>1561.8799571</td>\n",
       "<td>754.5913582</td>\n",
       "<td>2439469.0003443</td></tr>\n",
       "<tr><td></td>\n",
       "<td>2018-11-05 21:39:29</td>\n",
       "<td>24 min 58.518 sec</td>\n",
       "<td>1170.0</td>\n",
       "<td>829.1323071</td>\n",
       "<td>563.6323581</td>\n",
       "<td>687460.3827516</td>\n",
       "<td>1560.8289232</td>\n",
       "<td>753.6601954</td>\n",
       "<td>2436186.9274145</td></tr>\n",
       "<tr><td></td>\n",
       "<td>2018-11-05 21:39:30</td>\n",
       "<td>25 min  0.112 sec</td>\n",
       "<td>1173.0</td>\n",
       "<td>828.2585739</td>\n",
       "<td>563.1957504</td>\n",
       "<td>686012.2652432</td>\n",
       "<td>1560.1030355</td>\n",
       "<td>753.3167047</td>\n",
       "<td>2433921.4813857</td></tr></table></div>"
      ],
      "text/plain": [
       "     timestamp            duration           number_of_trees    training_rmse       training_mae        training_deviance    validation_rmse     validation_mae      validation_deviance\n",
       "---  -------------------  -----------------  -----------------  ------------------  ------------------  -------------------  ------------------  ------------------  ---------------------\n",
       "     2018-11-05 21:36:42  22 min 11.803 sec  0.0                72464.09911210733   59436.56134383876   5251045660.129315    72349.21846005773   59352.02240643434   5234409411.781159\n",
       "     2018-11-05 21:36:42  22 min 12.030 sec  5.0                56554.37573334555   46094.163012339384  3198397414.5884237   56452.58958970879   46042.60079123307   3186894871.384097\n",
       "     2018-11-05 21:36:42  22 min 12.186 sec  10.0               44505.29486255469   35921.10675081927   1980721270.8029368   44399.346488104864  35888.0947333692    1971301968.5707896\n",
       "     2018-11-05 21:36:43  22 min 12.354 sec  15.0               35186.629206503734  28201.94088354052   1238098874.9159818   35071.73628658611   28176.512057449523  1230026686.1558406\n",
       "     2018-11-05 21:36:43  22 min 12.521 sec  20.0               27768.000848958534  22066.422401084452  771061871.1477618    27662.454445848038  22045.985780296807  765211385.9686179\n",
       "---  ---                  ---                ---                ---                 ---                 ---                  ---                 ---                 ---\n",
       "     2018-11-05 21:39:24  24 min 53.534 sec  1155.0             834.9169298190025   567.7301325843778   697086.279698389     1563.4995582760512  756.9622240417873   2444530.8687294074\n",
       "     2018-11-05 21:39:25  24 min 55.188 sec  1160.0             833.4653585373401   566.4855721656276   694664.5038817768    1562.6905522511659  755.9120653384733   2442001.7620950537\n",
       "     2018-11-05 21:39:27  24 min 56.847 sec  1165.0             831.341082371487    564.9154585930289   691127.9952385955    1561.8799570851518  754.5913582130459   2439469.0003443155\n",
       "     2018-11-05 21:39:29  24 min 58.518 sec  1170.0             829.1323071450088   563.6323580570345   687460.3827516052    1560.8289231733431  753.6601954088356   2436186.927414458\n",
       "     2018-11-05 21:39:30  25 min  0.112 sec  1173.0             828.2585739026333   563.1957504370328   686012.2652432239    1560.1030355029998  753.3167046843388   2433921.4813856743"
      ]
     },
     "metadata": {},
     "output_type": "display_data"
    },
    {
     "name": "stdout",
     "output_type": "stream",
     "text": [
      "\n",
      "See the whole table with table.as_data_frame()\n",
      "Variable Importances: \n"
     ]
    },
    {
     "data": {
      "text/html": [
       "<div style=\"overflow:auto\"><table style=\"width:50%\"><tr><td><b>variable</b></td>\n",
       "<td><b>relative_importance</b></td>\n",
       "<td><b>scaled_importance</b></td>\n",
       "<td><b>percentage</b></td></tr>\n",
       "<tr><td>TotalPayments</td>\n",
       "<td>6168.0</td>\n",
       "<td>1.0</td>\n",
       "<td>0.1928645</td></tr>\n",
       "<tr><td>Rate</td>\n",
       "<td>4983.0</td>\n",
       "<td>0.8078794</td>\n",
       "<td>0.1558113</td></tr>\n",
       "<tr><td>o_pay</td>\n",
       "<td>3670.0</td>\n",
       "<td>0.5950065</td>\n",
       "<td>0.1147556</td></tr>\n",
       "<tr><td>OtherPay(PayrollExplorer)</td>\n",
       "<td>3289.0</td>\n",
       "<td>0.5332361</td>\n",
       "<td>0.1028423</td></tr>\n",
       "<tr><td>JobClass</td>\n",
       "<td>2414.0</td>\n",
       "<td>0.3913748</td>\n",
       "<td>0.0754823</td></tr>\n",
       "<tr><td>e_pay</td>\n",
       "<td>2299.0</td>\n",
       "<td>0.3727302</td>\n",
       "<td>0.0718864</td></tr>\n",
       "<tr><td>LumpSumPay</td>\n",
       "<td>1579.0</td>\n",
       "<td>0.2559987</td>\n",
       "<td>0.0493731</td></tr>\n",
       "<tr><td>p_bonus</td>\n",
       "<td>1536.0</td>\n",
       "<td>0.2490272</td>\n",
       "<td>0.0480285</td></tr>\n",
       "<tr><td>AverageBenefitCost</td>\n",
       "<td>1457.0</td>\n",
       "<td>0.2362192</td>\n",
       "<td>0.0455583</td></tr>\n",
       "<tr><td>Time</td>\n",
       "<td>1344.0</td>\n",
       "<td>0.2178988</td>\n",
       "<td>0.0420250</td></tr>\n",
       "<tr><td>t_bonus</td>\n",
       "<td>928.0</td>\n",
       "<td>0.1504540</td>\n",
       "<td>0.0290172</td></tr>\n",
       "<tr><td>long</td>\n",
       "<td>833.0</td>\n",
       "<td>0.1350519</td>\n",
       "<td>0.0260467</td></tr>\n",
       "<tr><td>insurance</td>\n",
       "<td>622.0</td>\n",
       "<td>0.1008431</td>\n",
       "<td>0.0194490</td></tr>\n",
       "<tr><td>FMSDepartment</td>\n",
       "<td>482.0</td>\n",
       "<td>0.0781453</td>\n",
       "<td>0.0150714</td></tr>\n",
       "<tr><td>p_dep</td>\n",
       "<td>285.0</td>\n",
       "<td>0.0462062</td>\n",
       "<td>0.0089115</td></tr>\n",
       "<tr><td>financial</td>\n",
       "<td>92.0</td>\n",
       "<td>0.0149157</td>\n",
       "<td>0.0028767</td></tr></table></div>"
      ],
      "text/plain": [
       "variable                   relative_importance    scaled_importance    percentage\n",
       "-------------------------  ---------------------  -------------------  ------------\n",
       "TotalPayments              6168                   1                    0.192865\n",
       "Rate                       4983                   0.807879             0.155811\n",
       "o_pay                      3670                   0.595006             0.114756\n",
       "OtherPay(PayrollExplorer)  3289                   0.533236             0.102842\n",
       "JobClass                   2414                   0.391375             0.0754823\n",
       "e_pay                      2299                   0.37273              0.0718864\n",
       "LumpSumPay                 1579                   0.255999             0.0493731\n",
       "p_bonus                    1536                   0.249027             0.0480285\n",
       "AverageBenefitCost         1457                   0.236219             0.0455583\n",
       "Time                       1344                   0.217899             0.042025\n",
       "t_bonus                    928                    0.150454             0.0290172\n",
       "long                       833                    0.135052             0.0260467\n",
       "insurance                  622                    0.100843             0.019449\n",
       "FMSDepartment              482                    0.0781453            0.0150714\n",
       "p_dep                      285                    0.0462062            0.00891154\n",
       "financial                  92                     0.0149157            0.00287671"
      ]
     },
     "metadata": {},
     "output_type": "display_data"
    },
    {
     "name": "stdout",
     "output_type": "stream",
     "text": [
      "\n"
     ]
    }
   ],
   "source": [
    "print(aml.leader)"
   ]
  },
  {
   "cell_type": "code",
   "execution_count": 28,
   "metadata": {},
   "outputs": [
    {
     "name": "stdout",
     "output_type": "stream",
     "text": [
      "\n",
      "ModelMetricsRegression: xgboost\n",
      "** Reported on test data. **\n",
      "\n",
      "MSE: 3007148.4642519224\n",
      "RMSE: 1734.1131636233902\n",
      "MAE: 769.6179810823162\n",
      "RMSLE: NaN\n",
      "Mean Residual Deviance: 3007148.4642519224\n"
     ]
    },
    {
     "data": {
      "text/plain": []
     },
     "execution_count": 28,
     "metadata": {},
     "output_type": "execute_result"
    }
   ],
   "source": [
    "aml.leader.model_performance(h2oTest)"
   ]
  },
  {
   "cell_type": "code",
   "execution_count": 30,
   "metadata": {},
   "outputs": [],
   "source": [
    "#save test_pred to pickle file\n",
    "preds.to_pickle(\"y_pred.pickle\")"
   ]
  },
  {
   "cell_type": "code",
   "execution_count": 34,
   "metadata": {},
   "outputs": [],
   "source": [
    "# save train_pred to pickle file\n",
    "train_preds.to_pickle(\"train_y_pred.pickle\")"
   ]
  },
  {
   "cell_type": "code",
   "execution_count": 65,
   "metadata": {},
   "outputs": [],
   "source": [
    "#transform y_train and combine y_train_pred as a dataframe\n",
    "dd = y_train.to_frame().reset_index(drop=True)\n",
    "aa = pd.DataFrame()\n",
    "aa[\"y_train\"] = dd\n",
    "aa[\"y_train_pred\"] = train_preds"
   ]
  },
  {
   "cell_type": "code",
   "execution_count": null,
   "metadata": {},
   "outputs": [],
   "source": [
    "# substraction two columns to compute residuals:\n",
    "aa[\"sub\"] = aa[[\"y_train\",\"y_train_pred\"]].sum(axis=1)\n",
    "yy = aa[[\"y_train\",\"sub\"]].sub(aa[\"y_train_pred\"],axis=0)\n",
    "# save residuals \n",
    "yy.to_pickle(\"graph_train.pickle\")"
   ]
  },
  {
   "cell_type": "code",
   "execution_count": 113,
   "metadata": {},
   "outputs": [],
   "source": [
    "#transform y_test and combine y_test_pred as a dataframe\n",
    "tt = y_test.to_frame().reset_index(drop=True)\n",
    "bb = pd.DataFrame()\n",
    "bb[\"y_test\"] = tt\n",
    "bb[\"y_test_pred\"] = preds"
   ]
  },
  {
   "cell_type": "code",
   "execution_count": 117,
   "metadata": {},
   "outputs": [],
   "source": [
    "# substraction two columns to compute residuals:\n",
    "bb[\"sub\"] = bb[[\"y_test\",\"y_test_pred\"]].sum(axis=1)\n",
    "yy2 = bb[[\"y_test_pred\",\"sub\"]].sub(bb[\"y_test\"],axis=0)"
   ]
  },
  {
   "cell_type": "code",
   "execution_count": 121,
   "metadata": {},
   "outputs": [
    {
     "data": {
      "text/html": [
       "<div>\n",
       "<style scoped>\n",
       "    .dataframe tbody tr th:only-of-type {\n",
       "        vertical-align: middle;\n",
       "    }\n",
       "\n",
       "    .dataframe tbody tr th {\n",
       "        vertical-align: top;\n",
       "    }\n",
       "\n",
       "    .dataframe thead th {\n",
       "        text-align: right;\n",
       "    }\n",
       "</style>\n",
       "<table border=\"1\" class=\"dataframe\">\n",
       "  <thead>\n",
       "    <tr style=\"text-align: right;\">\n",
       "      <th></th>\n",
       "      <th>y_test</th>\n",
       "      <th>y_test_pred</th>\n",
       "      <th>sub</th>\n",
       "    </tr>\n",
       "  </thead>\n",
       "  <tbody>\n",
       "    <tr>\n",
       "      <th>0</th>\n",
       "      <td>13307.81</td>\n",
       "      <td>13361.247070</td>\n",
       "      <td>26669.057070</td>\n",
       "    </tr>\n",
       "    <tr>\n",
       "      <th>1</th>\n",
       "      <td>2170.40</td>\n",
       "      <td>1795.662598</td>\n",
       "      <td>3966.062598</td>\n",
       "    </tr>\n",
       "    <tr>\n",
       "      <th>2</th>\n",
       "      <td>52976.04</td>\n",
       "      <td>54344.175781</td>\n",
       "      <td>107320.215781</td>\n",
       "    </tr>\n",
       "    <tr>\n",
       "      <th>3</th>\n",
       "      <td>25515.20</td>\n",
       "      <td>26044.552734</td>\n",
       "      <td>51559.752734</td>\n",
       "    </tr>\n",
       "    <tr>\n",
       "      <th>4</th>\n",
       "      <td>98724.80</td>\n",
       "      <td>99007.437500</td>\n",
       "      <td>197732.237500</td>\n",
       "    </tr>\n",
       "  </tbody>\n",
       "</table>\n",
       "</div>"
      ],
      "text/plain": [
       "     y_test   y_test_pred            sub\n",
       "0  13307.81  13361.247070   26669.057070\n",
       "1   2170.40   1795.662598    3966.062598\n",
       "2  52976.04  54344.175781  107320.215781\n",
       "3  25515.20  26044.552734   51559.752734\n",
       "4  98724.80  99007.437500  197732.237500"
      ]
     },
     "execution_count": 121,
     "metadata": {},
     "output_type": "execute_result"
    }
   ],
   "source": [
    "bb.head()"
   ]
  },
  {
   "cell_type": "code",
   "execution_count": 126,
   "metadata": {},
   "outputs": [],
   "source": [
    "yy2.to_pickle(\"graph_test.pickle\")"
   ]
  },
  {
   "cell_type": "code",
   "execution_count": 125,
   "metadata": {},
   "outputs": [
    {
     "data": {
      "text/html": [
       "<div>\n",
       "<style scoped>\n",
       "    .dataframe tbody tr th:only-of-type {\n",
       "        vertical-align: middle;\n",
       "    }\n",
       "\n",
       "    .dataframe tbody tr th {\n",
       "        vertical-align: top;\n",
       "    }\n",
       "\n",
       "    .dataframe thead th {\n",
       "        text-align: right;\n",
       "    }\n",
       "</style>\n",
       "<table border=\"1\" class=\"dataframe\">\n",
       "  <thead>\n",
       "    <tr style=\"text-align: right;\">\n",
       "      <th></th>\n",
       "      <th>y_test_pred</th>\n",
       "      <th>sub</th>\n",
       "    </tr>\n",
       "  </thead>\n",
       "  <tbody>\n",
       "    <tr>\n",
       "      <th>0</th>\n",
       "      <td>53.437070</td>\n",
       "      <td>13361.247070</td>\n",
       "    </tr>\n",
       "    <tr>\n",
       "      <th>1</th>\n",
       "      <td>-374.737402</td>\n",
       "      <td>1795.662598</td>\n",
       "    </tr>\n",
       "    <tr>\n",
       "      <th>2</th>\n",
       "      <td>1368.135781</td>\n",
       "      <td>54344.175781</td>\n",
       "    </tr>\n",
       "    <tr>\n",
       "      <th>3</th>\n",
       "      <td>529.352734</td>\n",
       "      <td>26044.552734</td>\n",
       "    </tr>\n",
       "    <tr>\n",
       "      <th>4</th>\n",
       "      <td>282.637500</td>\n",
       "      <td>99007.437500</td>\n",
       "    </tr>\n",
       "  </tbody>\n",
       "</table>\n",
       "</div>"
      ],
      "text/plain": [
       "   y_test_pred           sub\n",
       "0    53.437070  13361.247070\n",
       "1  -374.737402   1795.662598\n",
       "2  1368.135781  54344.175781\n",
       "3   529.352734  26044.552734\n",
       "4   282.637500  99007.437500"
      ]
     },
     "execution_count": 125,
     "metadata": {},
     "output_type": "execute_result"
    }
   ],
   "source": [
    "yy2.head()"
   ]
  },
  {
   "cell_type": "code",
   "execution_count": null,
   "metadata": {},
   "outputs": [],
   "source": []
  }
 ],
 "metadata": {
  "kernelspec": {
   "display_name": "Python 3",
   "language": "python",
   "name": "python3"
  },
  "language_info": {
   "codemirror_mode": {
    "name": "ipython",
    "version": 3
   },
   "file_extension": ".py",
   "mimetype": "text/x-python",
   "name": "python",
   "nbconvert_exporter": "python",
   "pygments_lexer": "ipython3",
   "version": "3.6.4"
  }
 },
 "nbformat": 4,
 "nbformat_minor": 2
}
